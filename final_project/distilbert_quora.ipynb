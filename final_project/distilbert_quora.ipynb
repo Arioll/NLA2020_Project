{
  "nbformat": 4,
  "nbformat_minor": 0,
  "metadata": {
    "accelerator": "GPU",
    "colab": {
      "name": "distilbert_quora.ipynb",
      "provenance": [],
      "collapsed_sections": []
    },
    "kernelspec": {
      "display_name": "Python 3",
      "name": "python3"
    },
    "widgets": {
      "application/vnd.jupyter.widget-state+json": {
        "9e8208695ecc4aa58cf254f5d18ebe42": {
          "model_module": "@jupyter-widgets/controls",
          "model_name": "HBoxModel",
          "state": {
            "_view_name": "HBoxView",
            "_dom_classes": [],
            "_model_name": "HBoxModel",
            "_view_module": "@jupyter-widgets/controls",
            "_model_module_version": "1.5.0",
            "_view_count": null,
            "_view_module_version": "1.5.0",
            "box_style": "",
            "layout": "IPY_MODEL_b2dd0df4158b45c097e017428fe57af6",
            "_model_module": "@jupyter-widgets/controls",
            "children": [
              "IPY_MODEL_6bd1997746b849218915037449e44a2c",
              "IPY_MODEL_0b4ecd35af224815b7548da035830fa9"
            ]
          }
        },
        "b2dd0df4158b45c097e017428fe57af6": {
          "model_module": "@jupyter-widgets/base",
          "model_name": "LayoutModel",
          "state": {
            "_view_name": "LayoutView",
            "grid_template_rows": null,
            "right": null,
            "justify_content": null,
            "_view_module": "@jupyter-widgets/base",
            "overflow": null,
            "_model_module_version": "1.2.0",
            "_view_count": null,
            "flex_flow": null,
            "width": null,
            "min_width": null,
            "border": null,
            "align_items": null,
            "bottom": null,
            "_model_module": "@jupyter-widgets/base",
            "top": null,
            "grid_column": null,
            "overflow_y": null,
            "overflow_x": null,
            "grid_auto_flow": null,
            "grid_area": null,
            "grid_template_columns": null,
            "flex": null,
            "_model_name": "LayoutModel",
            "justify_items": null,
            "grid_row": null,
            "max_height": null,
            "align_content": null,
            "visibility": null,
            "align_self": null,
            "height": null,
            "min_height": null,
            "padding": null,
            "grid_auto_rows": null,
            "grid_gap": null,
            "max_width": null,
            "order": null,
            "_view_module_version": "1.2.0",
            "grid_template_areas": null,
            "object_position": null,
            "object_fit": null,
            "grid_auto_columns": null,
            "margin": null,
            "display": null,
            "left": null
          }
        },
        "6bd1997746b849218915037449e44a2c": {
          "model_module": "@jupyter-widgets/controls",
          "model_name": "FloatProgressModel",
          "state": {
            "_view_name": "ProgressView",
            "style": "IPY_MODEL_bd056407a5cd4280bdcf59d09b080776",
            "_dom_classes": [],
            "description": "100%",
            "_model_name": "FloatProgressModel",
            "bar_style": "success",
            "max": 10781,
            "_view_module": "@jupyter-widgets/controls",
            "_model_module_version": "1.5.0",
            "value": 10781,
            "_view_count": null,
            "_view_module_version": "1.5.0",
            "orientation": "horizontal",
            "min": 0,
            "description_tooltip": null,
            "_model_module": "@jupyter-widgets/controls",
            "layout": "IPY_MODEL_51de1c198e9a474eb173b46d2f04195a"
          }
        },
        "0b4ecd35af224815b7548da035830fa9": {
          "model_module": "@jupyter-widgets/controls",
          "model_name": "HTMLModel",
          "state": {
            "_view_name": "HTMLView",
            "style": "IPY_MODEL_cf7ac851bebf4c51b7fb302f5ed3b809",
            "_dom_classes": [],
            "description": "",
            "_model_name": "HTMLModel",
            "placeholder": "​",
            "_view_module": "@jupyter-widgets/controls",
            "_model_module_version": "1.5.0",
            "value": " 10781/10781 [1:03:40&lt;00:00,  2.82it/s]",
            "_view_count": null,
            "_view_module_version": "1.5.0",
            "description_tooltip": null,
            "_model_module": "@jupyter-widgets/controls",
            "layout": "IPY_MODEL_dfe0ad6a16ad47069a450b40ce1e7990"
          }
        },
        "bd056407a5cd4280bdcf59d09b080776": {
          "model_module": "@jupyter-widgets/controls",
          "model_name": "ProgressStyleModel",
          "state": {
            "_view_name": "StyleView",
            "_model_name": "ProgressStyleModel",
            "description_width": "initial",
            "_view_module": "@jupyter-widgets/base",
            "_model_module_version": "1.5.0",
            "_view_count": null,
            "_view_module_version": "1.2.0",
            "bar_color": null,
            "_model_module": "@jupyter-widgets/controls"
          }
        },
        "51de1c198e9a474eb173b46d2f04195a": {
          "model_module": "@jupyter-widgets/base",
          "model_name": "LayoutModel",
          "state": {
            "_view_name": "LayoutView",
            "grid_template_rows": null,
            "right": null,
            "justify_content": null,
            "_view_module": "@jupyter-widgets/base",
            "overflow": null,
            "_model_module_version": "1.2.0",
            "_view_count": null,
            "flex_flow": null,
            "width": null,
            "min_width": null,
            "border": null,
            "align_items": null,
            "bottom": null,
            "_model_module": "@jupyter-widgets/base",
            "top": null,
            "grid_column": null,
            "overflow_y": null,
            "overflow_x": null,
            "grid_auto_flow": null,
            "grid_area": null,
            "grid_template_columns": null,
            "flex": null,
            "_model_name": "LayoutModel",
            "justify_items": null,
            "grid_row": null,
            "max_height": null,
            "align_content": null,
            "visibility": null,
            "align_self": null,
            "height": null,
            "min_height": null,
            "padding": null,
            "grid_auto_rows": null,
            "grid_gap": null,
            "max_width": null,
            "order": null,
            "_view_module_version": "1.2.0",
            "grid_template_areas": null,
            "object_position": null,
            "object_fit": null,
            "grid_auto_columns": null,
            "margin": null,
            "display": null,
            "left": null
          }
        },
        "cf7ac851bebf4c51b7fb302f5ed3b809": {
          "model_module": "@jupyter-widgets/controls",
          "model_name": "DescriptionStyleModel",
          "state": {
            "_view_name": "StyleView",
            "_model_name": "DescriptionStyleModel",
            "description_width": "",
            "_view_module": "@jupyter-widgets/base",
            "_model_module_version": "1.5.0",
            "_view_count": null,
            "_view_module_version": "1.2.0",
            "_model_module": "@jupyter-widgets/controls"
          }
        },
        "dfe0ad6a16ad47069a450b40ce1e7990": {
          "model_module": "@jupyter-widgets/base",
          "model_name": "LayoutModel",
          "state": {
            "_view_name": "LayoutView",
            "grid_template_rows": null,
            "right": null,
            "justify_content": null,
            "_view_module": "@jupyter-widgets/base",
            "overflow": null,
            "_model_module_version": "1.2.0",
            "_view_count": null,
            "flex_flow": null,
            "width": null,
            "min_width": null,
            "border": null,
            "align_items": null,
            "bottom": null,
            "_model_module": "@jupyter-widgets/base",
            "top": null,
            "grid_column": null,
            "overflow_y": null,
            "overflow_x": null,
            "grid_auto_flow": null,
            "grid_area": null,
            "grid_template_columns": null,
            "flex": null,
            "_model_name": "LayoutModel",
            "justify_items": null,
            "grid_row": null,
            "max_height": null,
            "align_content": null,
            "visibility": null,
            "align_self": null,
            "height": null,
            "min_height": null,
            "padding": null,
            "grid_auto_rows": null,
            "grid_gap": null,
            "max_width": null,
            "order": null,
            "_view_module_version": "1.2.0",
            "grid_template_areas": null,
            "object_position": null,
            "object_fit": null,
            "grid_auto_columns": null,
            "margin": null,
            "display": null,
            "left": null
          }
        },
        "c85e14e5b4a94a29b9843cfa4e36b792": {
          "model_module": "@jupyter-widgets/controls",
          "model_name": "HBoxModel",
          "state": {
            "_view_name": "HBoxView",
            "_dom_classes": [],
            "_model_name": "HBoxModel",
            "_view_module": "@jupyter-widgets/controls",
            "_model_module_version": "1.5.0",
            "_view_count": null,
            "_view_module_version": "1.5.0",
            "box_style": "",
            "layout": "IPY_MODEL_d7b84b55845944bebdd559f61e86ba97",
            "_model_module": "@jupyter-widgets/controls",
            "children": [
              "IPY_MODEL_e8b5eb4faed646b29ecaf92484ba4ff6",
              "IPY_MODEL_df65c9426d66472e858b19d2912e09a4"
            ]
          }
        },
        "d7b84b55845944bebdd559f61e86ba97": {
          "model_module": "@jupyter-widgets/base",
          "model_name": "LayoutModel",
          "state": {
            "_view_name": "LayoutView",
            "grid_template_rows": null,
            "right": null,
            "justify_content": null,
            "_view_module": "@jupyter-widgets/base",
            "overflow": null,
            "_model_module_version": "1.2.0",
            "_view_count": null,
            "flex_flow": null,
            "width": null,
            "min_width": null,
            "border": null,
            "align_items": null,
            "bottom": null,
            "_model_module": "@jupyter-widgets/base",
            "top": null,
            "grid_column": null,
            "overflow_y": null,
            "overflow_x": null,
            "grid_auto_flow": null,
            "grid_area": null,
            "grid_template_columns": null,
            "flex": null,
            "_model_name": "LayoutModel",
            "justify_items": null,
            "grid_row": null,
            "max_height": null,
            "align_content": null,
            "visibility": null,
            "align_self": null,
            "height": null,
            "min_height": null,
            "padding": null,
            "grid_auto_rows": null,
            "grid_gap": null,
            "max_width": null,
            "order": null,
            "_view_module_version": "1.2.0",
            "grid_template_areas": null,
            "object_position": null,
            "object_fit": null,
            "grid_auto_columns": null,
            "margin": null,
            "display": null,
            "left": null
          }
        },
        "e8b5eb4faed646b29ecaf92484ba4ff6": {
          "model_module": "@jupyter-widgets/controls",
          "model_name": "FloatProgressModel",
          "state": {
            "_view_name": "ProgressView",
            "style": "IPY_MODEL_bb026a9532eb4df3be1558c2db362c7f",
            "_dom_classes": [],
            "description": "100%",
            "_model_name": "FloatProgressModel",
            "bar_style": "success",
            "max": 10781,
            "_view_module": "@jupyter-widgets/controls",
            "_model_module_version": "1.5.0",
            "value": 10781,
            "_view_count": null,
            "_view_module_version": "1.5.0",
            "orientation": "horizontal",
            "min": 0,
            "description_tooltip": null,
            "_model_module": "@jupyter-widgets/controls",
            "layout": "IPY_MODEL_5cbd7181848b404d982b5cf7767be233"
          }
        },
        "df65c9426d66472e858b19d2912e09a4": {
          "model_module": "@jupyter-widgets/controls",
          "model_name": "HTMLModel",
          "state": {
            "_view_name": "HTMLView",
            "style": "IPY_MODEL_8585db15310248518a079e37e2bbd242",
            "_dom_classes": [],
            "description": "",
            "_model_name": "HTMLModel",
            "placeholder": "​",
            "_view_module": "@jupyter-widgets/controls",
            "_model_module_version": "1.5.0",
            "value": " 10781/10781 [2:07:18&lt;00:00,  1.41it/s]",
            "_view_count": null,
            "_view_module_version": "1.5.0",
            "description_tooltip": null,
            "_model_module": "@jupyter-widgets/controls",
            "layout": "IPY_MODEL_2dc8b67bc56244c3a6d2230b9f807956"
          }
        },
        "bb026a9532eb4df3be1558c2db362c7f": {
          "model_module": "@jupyter-widgets/controls",
          "model_name": "ProgressStyleModel",
          "state": {
            "_view_name": "StyleView",
            "_model_name": "ProgressStyleModel",
            "description_width": "initial",
            "_view_module": "@jupyter-widgets/base",
            "_model_module_version": "1.5.0",
            "_view_count": null,
            "_view_module_version": "1.2.0",
            "bar_color": null,
            "_model_module": "@jupyter-widgets/controls"
          }
        },
        "5cbd7181848b404d982b5cf7767be233": {
          "model_module": "@jupyter-widgets/base",
          "model_name": "LayoutModel",
          "state": {
            "_view_name": "LayoutView",
            "grid_template_rows": null,
            "right": null,
            "justify_content": null,
            "_view_module": "@jupyter-widgets/base",
            "overflow": null,
            "_model_module_version": "1.2.0",
            "_view_count": null,
            "flex_flow": null,
            "width": null,
            "min_width": null,
            "border": null,
            "align_items": null,
            "bottom": null,
            "_model_module": "@jupyter-widgets/base",
            "top": null,
            "grid_column": null,
            "overflow_y": null,
            "overflow_x": null,
            "grid_auto_flow": null,
            "grid_area": null,
            "grid_template_columns": null,
            "flex": null,
            "_model_name": "LayoutModel",
            "justify_items": null,
            "grid_row": null,
            "max_height": null,
            "align_content": null,
            "visibility": null,
            "align_self": null,
            "height": null,
            "min_height": null,
            "padding": null,
            "grid_auto_rows": null,
            "grid_gap": null,
            "max_width": null,
            "order": null,
            "_view_module_version": "1.2.0",
            "grid_template_areas": null,
            "object_position": null,
            "object_fit": null,
            "grid_auto_columns": null,
            "margin": null,
            "display": null,
            "left": null
          }
        },
        "8585db15310248518a079e37e2bbd242": {
          "model_module": "@jupyter-widgets/controls",
          "model_name": "DescriptionStyleModel",
          "state": {
            "_view_name": "StyleView",
            "_model_name": "DescriptionStyleModel",
            "description_width": "",
            "_view_module": "@jupyter-widgets/base",
            "_model_module_version": "1.5.0",
            "_view_count": null,
            "_view_module_version": "1.2.0",
            "_model_module": "@jupyter-widgets/controls"
          }
        },
        "2dc8b67bc56244c3a6d2230b9f807956": {
          "model_module": "@jupyter-widgets/base",
          "model_name": "LayoutModel",
          "state": {
            "_view_name": "LayoutView",
            "grid_template_rows": null,
            "right": null,
            "justify_content": null,
            "_view_module": "@jupyter-widgets/base",
            "overflow": null,
            "_model_module_version": "1.2.0",
            "_view_count": null,
            "flex_flow": null,
            "width": null,
            "min_width": null,
            "border": null,
            "align_items": null,
            "bottom": null,
            "_model_module": "@jupyter-widgets/base",
            "top": null,
            "grid_column": null,
            "overflow_y": null,
            "overflow_x": null,
            "grid_auto_flow": null,
            "grid_area": null,
            "grid_template_columns": null,
            "flex": null,
            "_model_name": "LayoutModel",
            "justify_items": null,
            "grid_row": null,
            "max_height": null,
            "align_content": null,
            "visibility": null,
            "align_self": null,
            "height": null,
            "min_height": null,
            "padding": null,
            "grid_auto_rows": null,
            "grid_gap": null,
            "max_width": null,
            "order": null,
            "_view_module_version": "1.2.0",
            "grid_template_areas": null,
            "object_position": null,
            "object_fit": null,
            "grid_auto_columns": null,
            "margin": null,
            "display": null,
            "left": null
          }
        },
        "46004d2c9fe2422f8569dfc86d82e210": {
          "model_module": "@jupyter-widgets/controls",
          "model_name": "HBoxModel",
          "state": {
            "_view_name": "HBoxView",
            "_dom_classes": [],
            "_model_name": "HBoxModel",
            "_view_module": "@jupyter-widgets/controls",
            "_model_module_version": "1.5.0",
            "_view_count": null,
            "_view_module_version": "1.5.0",
            "box_style": "",
            "layout": "IPY_MODEL_c7ce53617b054b298829d08d0804a93f",
            "_model_module": "@jupyter-widgets/controls",
            "children": [
              "IPY_MODEL_a008b0a9fdd3428da29b7a54e30b0889",
              "IPY_MODEL_009f491987db43d19f58f791e85b6e03"
            ]
          }
        },
        "c7ce53617b054b298829d08d0804a93f": {
          "model_module": "@jupyter-widgets/base",
          "model_name": "LayoutModel",
          "state": {
            "_view_name": "LayoutView",
            "grid_template_rows": null,
            "right": null,
            "justify_content": null,
            "_view_module": "@jupyter-widgets/base",
            "overflow": null,
            "_model_module_version": "1.2.0",
            "_view_count": null,
            "flex_flow": null,
            "width": null,
            "min_width": null,
            "border": null,
            "align_items": null,
            "bottom": null,
            "_model_module": "@jupyter-widgets/base",
            "top": null,
            "grid_column": null,
            "overflow_y": null,
            "overflow_x": null,
            "grid_auto_flow": null,
            "grid_area": null,
            "grid_template_columns": null,
            "flex": null,
            "_model_name": "LayoutModel",
            "justify_items": null,
            "grid_row": null,
            "max_height": null,
            "align_content": null,
            "visibility": null,
            "align_self": null,
            "height": null,
            "min_height": null,
            "padding": null,
            "grid_auto_rows": null,
            "grid_gap": null,
            "max_width": null,
            "order": null,
            "_view_module_version": "1.2.0",
            "grid_template_areas": null,
            "object_position": null,
            "object_fit": null,
            "grid_auto_columns": null,
            "margin": null,
            "display": null,
            "left": null
          }
        },
        "a008b0a9fdd3428da29b7a54e30b0889": {
          "model_module": "@jupyter-widgets/controls",
          "model_name": "FloatProgressModel",
          "state": {
            "_view_name": "ProgressView",
            "style": "IPY_MODEL_876603fd405248969710c80836d6e4a9",
            "_dom_classes": [],
            "description": "100%",
            "_model_name": "FloatProgressModel",
            "bar_style": "success",
            "max": 10781,
            "_view_module": "@jupyter-widgets/controls",
            "_model_module_version": "1.5.0",
            "value": 10781,
            "_view_count": null,
            "_view_module_version": "1.5.0",
            "orientation": "horizontal",
            "min": 0,
            "description_tooltip": null,
            "_model_module": "@jupyter-widgets/controls",
            "layout": "IPY_MODEL_9a98a9e8160545f78affa1f7952dac6f"
          }
        },
        "009f491987db43d19f58f791e85b6e03": {
          "model_module": "@jupyter-widgets/controls",
          "model_name": "HTMLModel",
          "state": {
            "_view_name": "HTMLView",
            "style": "IPY_MODEL_cb0f03d197054826aa27de72b720b62d",
            "_dom_classes": [],
            "description": "",
            "_model_name": "HTMLModel",
            "placeholder": "​",
            "_view_module": "@jupyter-widgets/controls",
            "_model_module_version": "1.5.0",
            "value": " 10781/10781 [1:03:39&lt;00:00,  2.82it/s]",
            "_view_count": null,
            "_view_module_version": "1.5.0",
            "description_tooltip": null,
            "_model_module": "@jupyter-widgets/controls",
            "layout": "IPY_MODEL_7257ad452249410da66e2bb45e45495f"
          }
        },
        "876603fd405248969710c80836d6e4a9": {
          "model_module": "@jupyter-widgets/controls",
          "model_name": "ProgressStyleModel",
          "state": {
            "_view_name": "StyleView",
            "_model_name": "ProgressStyleModel",
            "description_width": "initial",
            "_view_module": "@jupyter-widgets/base",
            "_model_module_version": "1.5.0",
            "_view_count": null,
            "_view_module_version": "1.2.0",
            "bar_color": null,
            "_model_module": "@jupyter-widgets/controls"
          }
        },
        "9a98a9e8160545f78affa1f7952dac6f": {
          "model_module": "@jupyter-widgets/base",
          "model_name": "LayoutModel",
          "state": {
            "_view_name": "LayoutView",
            "grid_template_rows": null,
            "right": null,
            "justify_content": null,
            "_view_module": "@jupyter-widgets/base",
            "overflow": null,
            "_model_module_version": "1.2.0",
            "_view_count": null,
            "flex_flow": null,
            "width": null,
            "min_width": null,
            "border": null,
            "align_items": null,
            "bottom": null,
            "_model_module": "@jupyter-widgets/base",
            "top": null,
            "grid_column": null,
            "overflow_y": null,
            "overflow_x": null,
            "grid_auto_flow": null,
            "grid_area": null,
            "grid_template_columns": null,
            "flex": null,
            "_model_name": "LayoutModel",
            "justify_items": null,
            "grid_row": null,
            "max_height": null,
            "align_content": null,
            "visibility": null,
            "align_self": null,
            "height": null,
            "min_height": null,
            "padding": null,
            "grid_auto_rows": null,
            "grid_gap": null,
            "max_width": null,
            "order": null,
            "_view_module_version": "1.2.0",
            "grid_template_areas": null,
            "object_position": null,
            "object_fit": null,
            "grid_auto_columns": null,
            "margin": null,
            "display": null,
            "left": null
          }
        },
        "cb0f03d197054826aa27de72b720b62d": {
          "model_module": "@jupyter-widgets/controls",
          "model_name": "DescriptionStyleModel",
          "state": {
            "_view_name": "StyleView",
            "_model_name": "DescriptionStyleModel",
            "description_width": "",
            "_view_module": "@jupyter-widgets/base",
            "_model_module_version": "1.5.0",
            "_view_count": null,
            "_view_module_version": "1.2.0",
            "_model_module": "@jupyter-widgets/controls"
          }
        },
        "7257ad452249410da66e2bb45e45495f": {
          "model_module": "@jupyter-widgets/base",
          "model_name": "LayoutModel",
          "state": {
            "_view_name": "LayoutView",
            "grid_template_rows": null,
            "right": null,
            "justify_content": null,
            "_view_module": "@jupyter-widgets/base",
            "overflow": null,
            "_model_module_version": "1.2.0",
            "_view_count": null,
            "flex_flow": null,
            "width": null,
            "min_width": null,
            "border": null,
            "align_items": null,
            "bottom": null,
            "_model_module": "@jupyter-widgets/base",
            "top": null,
            "grid_column": null,
            "overflow_y": null,
            "overflow_x": null,
            "grid_auto_flow": null,
            "grid_area": null,
            "grid_template_columns": null,
            "flex": null,
            "_model_name": "LayoutModel",
            "justify_items": null,
            "grid_row": null,
            "max_height": null,
            "align_content": null,
            "visibility": null,
            "align_self": null,
            "height": null,
            "min_height": null,
            "padding": null,
            "grid_auto_rows": null,
            "grid_gap": null,
            "max_width": null,
            "order": null,
            "_view_module_version": "1.2.0",
            "grid_template_areas": null,
            "object_position": null,
            "object_fit": null,
            "grid_auto_columns": null,
            "margin": null,
            "display": null,
            "left": null
          }
        },
        "cdb32796c97443deba06a811886b10cf": {
          "model_module": "@jupyter-widgets/controls",
          "model_name": "HBoxModel",
          "state": {
            "_view_name": "HBoxView",
            "_dom_classes": [],
            "_model_name": "HBoxModel",
            "_view_module": "@jupyter-widgets/controls",
            "_model_module_version": "1.5.0",
            "_view_count": null,
            "_view_module_version": "1.5.0",
            "box_style": "",
            "layout": "IPY_MODEL_e8aa865975904d8b95a7d58aad2a297f",
            "_model_module": "@jupyter-widgets/controls",
            "children": [
              "IPY_MODEL_b061f68c0a39470b963488530cd6c826",
              "IPY_MODEL_e0b178cda6e541ad9c5ef8370c5096e3"
            ]
          }
        },
        "e8aa865975904d8b95a7d58aad2a297f": {
          "model_module": "@jupyter-widgets/base",
          "model_name": "LayoutModel",
          "state": {
            "_view_name": "LayoutView",
            "grid_template_rows": null,
            "right": null,
            "justify_content": null,
            "_view_module": "@jupyter-widgets/base",
            "overflow": null,
            "_model_module_version": "1.2.0",
            "_view_count": null,
            "flex_flow": null,
            "width": null,
            "min_width": null,
            "border": null,
            "align_items": null,
            "bottom": null,
            "_model_module": "@jupyter-widgets/base",
            "top": null,
            "grid_column": null,
            "overflow_y": null,
            "overflow_x": null,
            "grid_auto_flow": null,
            "grid_area": null,
            "grid_template_columns": null,
            "flex": null,
            "_model_name": "LayoutModel",
            "justify_items": null,
            "grid_row": null,
            "max_height": null,
            "align_content": null,
            "visibility": null,
            "align_self": null,
            "height": null,
            "min_height": null,
            "padding": null,
            "grid_auto_rows": null,
            "grid_gap": null,
            "max_width": null,
            "order": null,
            "_view_module_version": "1.2.0",
            "grid_template_areas": null,
            "object_position": null,
            "object_fit": null,
            "grid_auto_columns": null,
            "margin": null,
            "display": null,
            "left": null
          }
        },
        "b061f68c0a39470b963488530cd6c826": {
          "model_module": "@jupyter-widgets/controls",
          "model_name": "FloatProgressModel",
          "state": {
            "_view_name": "ProgressView",
            "style": "IPY_MODEL_cdbd7d07605048889fbdf69cb7de1870",
            "_dom_classes": [],
            "description": "100%",
            "_model_name": "FloatProgressModel",
            "bar_style": "success",
            "max": 10781,
            "_view_module": "@jupyter-widgets/controls",
            "_model_module_version": "1.5.0",
            "value": 10781,
            "_view_count": null,
            "_view_module_version": "1.5.0",
            "orientation": "horizontal",
            "min": 0,
            "description_tooltip": null,
            "_model_module": "@jupyter-widgets/controls",
            "layout": "IPY_MODEL_a2ce6dc13f6541b2b2adf22388d9523e"
          }
        },
        "e0b178cda6e541ad9c5ef8370c5096e3": {
          "model_module": "@jupyter-widgets/controls",
          "model_name": "HTMLModel",
          "state": {
            "_view_name": "HTMLView",
            "style": "IPY_MODEL_ceaca139481349cc87f42709e1cb089a",
            "_dom_classes": [],
            "description": "",
            "_model_name": "HTMLModel",
            "placeholder": "​",
            "_view_module": "@jupyter-widgets/controls",
            "_model_module_version": "1.5.0",
            "value": " 10781/10781 [1:03:39&lt;00:00,  2.82it/s]",
            "_view_count": null,
            "_view_module_version": "1.5.0",
            "description_tooltip": null,
            "_model_module": "@jupyter-widgets/controls",
            "layout": "IPY_MODEL_a8b102a9a6654023b2c694636897ee7b"
          }
        },
        "cdbd7d07605048889fbdf69cb7de1870": {
          "model_module": "@jupyter-widgets/controls",
          "model_name": "ProgressStyleModel",
          "state": {
            "_view_name": "StyleView",
            "_model_name": "ProgressStyleModel",
            "description_width": "initial",
            "_view_module": "@jupyter-widgets/base",
            "_model_module_version": "1.5.0",
            "_view_count": null,
            "_view_module_version": "1.2.0",
            "bar_color": null,
            "_model_module": "@jupyter-widgets/controls"
          }
        },
        "a2ce6dc13f6541b2b2adf22388d9523e": {
          "model_module": "@jupyter-widgets/base",
          "model_name": "LayoutModel",
          "state": {
            "_view_name": "LayoutView",
            "grid_template_rows": null,
            "right": null,
            "justify_content": null,
            "_view_module": "@jupyter-widgets/base",
            "overflow": null,
            "_model_module_version": "1.2.0",
            "_view_count": null,
            "flex_flow": null,
            "width": null,
            "min_width": null,
            "border": null,
            "align_items": null,
            "bottom": null,
            "_model_module": "@jupyter-widgets/base",
            "top": null,
            "grid_column": null,
            "overflow_y": null,
            "overflow_x": null,
            "grid_auto_flow": null,
            "grid_area": null,
            "grid_template_columns": null,
            "flex": null,
            "_model_name": "LayoutModel",
            "justify_items": null,
            "grid_row": null,
            "max_height": null,
            "align_content": null,
            "visibility": null,
            "align_self": null,
            "height": null,
            "min_height": null,
            "padding": null,
            "grid_auto_rows": null,
            "grid_gap": null,
            "max_width": null,
            "order": null,
            "_view_module_version": "1.2.0",
            "grid_template_areas": null,
            "object_position": null,
            "object_fit": null,
            "grid_auto_columns": null,
            "margin": null,
            "display": null,
            "left": null
          }
        },
        "ceaca139481349cc87f42709e1cb089a": {
          "model_module": "@jupyter-widgets/controls",
          "model_name": "DescriptionStyleModel",
          "state": {
            "_view_name": "StyleView",
            "_model_name": "DescriptionStyleModel",
            "description_width": "",
            "_view_module": "@jupyter-widgets/base",
            "_model_module_version": "1.5.0",
            "_view_count": null,
            "_view_module_version": "1.2.0",
            "_model_module": "@jupyter-widgets/controls"
          }
        },
        "a8b102a9a6654023b2c694636897ee7b": {
          "model_module": "@jupyter-widgets/base",
          "model_name": "LayoutModel",
          "state": {
            "_view_name": "LayoutView",
            "grid_template_rows": null,
            "right": null,
            "justify_content": null,
            "_view_module": "@jupyter-widgets/base",
            "overflow": null,
            "_model_module_version": "1.2.0",
            "_view_count": null,
            "flex_flow": null,
            "width": null,
            "min_width": null,
            "border": null,
            "align_items": null,
            "bottom": null,
            "_model_module": "@jupyter-widgets/base",
            "top": null,
            "grid_column": null,
            "overflow_y": null,
            "overflow_x": null,
            "grid_auto_flow": null,
            "grid_area": null,
            "grid_template_columns": null,
            "flex": null,
            "_model_name": "LayoutModel",
            "justify_items": null,
            "grid_row": null,
            "max_height": null,
            "align_content": null,
            "visibility": null,
            "align_self": null,
            "height": null,
            "min_height": null,
            "padding": null,
            "grid_auto_rows": null,
            "grid_gap": null,
            "max_width": null,
            "order": null,
            "_view_module_version": "1.2.0",
            "grid_template_areas": null,
            "object_position": null,
            "object_fit": null,
            "grid_auto_columns": null,
            "margin": null,
            "display": null,
            "left": null
          }
        }
      }
    }
  },
  "cells": [
    {
      "cell_type": "code",
      "metadata": {
        "id": "o1r-0F-m-DtE"
      },
      "source": [
        "!cp -r 'drive/MyDrive/nla/FAVORDistilbert' '.'"
      ],
      "execution_count": 17,
      "outputs": []
    },
    {
      "cell_type": "code",
      "metadata": {
        "colab": {
          "base_uri": "https://localhost:8080/"
        },
        "id": "A7gCkKmuJyCO",
        "outputId": "707708ae-202c-434b-e488-81faa595c4b8"
      },
      "source": [
        "!git clone https://github.com/anordertoreclaim/transformers-plus-performers.git"
      ],
      "execution_count": 3,
      "outputs": [
        {
          "output_type": "stream",
          "text": [
            "Cloning into 'transformers-plus-performers'...\n",
            "remote: Enumerating objects: 54506, done.\u001b[K\n",
            "remote: Total 54506 (delta 0), reused 0 (delta 0), pack-reused 54506\u001b[K\n",
            "Receiving objects: 100% (54506/54506), 41.21 MiB | 29.90 MiB/s, done.\n",
            "Resolving deltas: 100% (38144/38144), done.\n"
          ],
          "name": "stdout"
        }
      ]
    },
    {
      "cell_type": "code",
      "metadata": {
        "colab": {
          "base_uri": "https://localhost:8080/"
        },
        "id": "FqgzhEdeaTj0",
        "outputId": "9320417d-8c1d-4342-d7dd-ffb668d4d1b1"
      },
      "source": [
        "cd transformers-plus-performers/"
      ],
      "execution_count": 4,
      "outputs": [
        {
          "output_type": "stream",
          "text": [
            "/content/transformers-plus-performers\n"
          ],
          "name": "stdout"
        }
      ]
    },
    {
      "cell_type": "code",
      "metadata": {
        "colab": {
          "base_uri": "https://localhost:8080/"
        },
        "id": "EZaJsMnmaVzy",
        "outputId": "75fe958f-21a2-4628-d774-f1e810edb045"
      },
      "source": [
        "!git checkout 1fa01a234da02ca67a05febb2eb12e6d8ee8c5bd"
      ],
      "execution_count": 5,
      "outputs": [
        {
          "output_type": "stream",
          "text": [
            "Note: checking out '1fa01a234da02ca67a05febb2eb12e6d8ee8c5bd'.\n",
            "\n",
            "You are in 'detached HEAD' state. You can look around, make experimental\n",
            "changes and commit them, and you can discard any commits you make in this\n",
            "state without impacting any branches by performing another checkout.\n",
            "\n",
            "If you want to create a new branch to retain commits you create, you may\n",
            "do so (now or later) by using -b with the checkout command again. Example:\n",
            "\n",
            "  git checkout -b <new-branch-name>\n",
            "\n",
            "HEAD is now at 1fa01a23 Aligned Albert's self-attention parameters with Performer's one\n"
          ],
          "name": "stdout"
        }
      ]
    },
    {
      "cell_type": "code",
      "metadata": {
        "colab": {
          "base_uri": "https://localhost:8080/"
        },
        "id": "TCfhp58WaXJO",
        "outputId": "2de73912-abe1-484f-b7b4-80edd3794082"
      },
      "source": [
        "!pip install ."
      ],
      "execution_count": 6,
      "outputs": [
        {
          "output_type": "stream",
          "text": [
            "Processing /content/transformers-plus-performers\n",
            "  Installing build dependencies ... \u001b[?25l\u001b[?25hdone\n",
            "  Getting requirements to build wheel ... \u001b[?25l\u001b[?25hdone\n",
            "    Preparing wheel metadata ... \u001b[?25l\u001b[?25hdone\n",
            "Collecting tokenizers==0.9.4\n",
            "\u001b[?25l  Downloading https://files.pythonhosted.org/packages/0f/1c/e789a8b12e28be5bc1ce2156cf87cb522b379be9cadc7ad8091a4cc107c4/tokenizers-0.9.4-cp36-cp36m-manylinux2010_x86_64.whl (2.9MB)\n",
            "\u001b[K     |████████████████████████████████| 2.9MB 8.1MB/s \n",
            "\u001b[?25hRequirement already satisfied: packaging in /usr/local/lib/python3.6/dist-packages (from transformers==4.1.0.dev0) (20.8)\n",
            "Requirement already satisfied: numpy in /usr/local/lib/python3.6/dist-packages (from transformers==4.1.0.dev0) (1.19.4)\n",
            "Requirement already satisfied: requests in /usr/local/lib/python3.6/dist-packages (from transformers==4.1.0.dev0) (2.23.0)\n",
            "Requirement already satisfied: dataclasses; python_version < \"3.7\" in /usr/local/lib/python3.6/dist-packages (from transformers==4.1.0.dev0) (0.8)\n",
            "Requirement already satisfied: filelock in /usr/local/lib/python3.6/dist-packages (from transformers==4.1.0.dev0) (3.0.12)\n",
            "Requirement already satisfied: tqdm>=4.27 in /usr/local/lib/python3.6/dist-packages (from transformers==4.1.0.dev0) (4.41.1)\n",
            "Requirement already satisfied: regex!=2019.12.17 in /usr/local/lib/python3.6/dist-packages (from transformers==4.1.0.dev0) (2019.12.20)\n",
            "Collecting sacremoses\n",
            "\u001b[?25l  Downloading https://files.pythonhosted.org/packages/7d/34/09d19aff26edcc8eb2a01bed8e98f13a1537005d31e95233fd48216eed10/sacremoses-0.0.43.tar.gz (883kB)\n",
            "\u001b[K     |████████████████████████████████| 890kB 42.0MB/s \n",
            "\u001b[?25hRequirement already satisfied: pyparsing>=2.0.2 in /usr/local/lib/python3.6/dist-packages (from packaging->transformers==4.1.0.dev0) (2.4.7)\n",
            "Requirement already satisfied: idna<3,>=2.5 in /usr/local/lib/python3.6/dist-packages (from requests->transformers==4.1.0.dev0) (2.10)\n",
            "Requirement already satisfied: urllib3!=1.25.0,!=1.25.1,<1.26,>=1.21.1 in /usr/local/lib/python3.6/dist-packages (from requests->transformers==4.1.0.dev0) (1.24.3)\n",
            "Requirement already satisfied: chardet<4,>=3.0.2 in /usr/local/lib/python3.6/dist-packages (from requests->transformers==4.1.0.dev0) (3.0.4)\n",
            "Requirement already satisfied: certifi>=2017.4.17 in /usr/local/lib/python3.6/dist-packages (from requests->transformers==4.1.0.dev0) (2020.12.5)\n",
            "Requirement already satisfied: six in /usr/local/lib/python3.6/dist-packages (from sacremoses->transformers==4.1.0.dev0) (1.15.0)\n",
            "Requirement already satisfied: click in /usr/local/lib/python3.6/dist-packages (from sacremoses->transformers==4.1.0.dev0) (7.1.2)\n",
            "Requirement already satisfied: joblib in /usr/local/lib/python3.6/dist-packages (from sacremoses->transformers==4.1.0.dev0) (1.0.0)\n",
            "Building wheels for collected packages: transformers\n",
            "  Building wheel for transformers (PEP 517) ... \u001b[?25l\u001b[?25hdone\n",
            "  Created wheel for transformers: filename=transformers-4.1.0.dev0-cp36-none-any.whl size=1461368 sha256=28e5c76852405c1f45c904055a4981afae520575ebe668ebacbaa1233031ba09\n",
            "  Stored in directory: /root/.cache/pip/wheels/2e/90/0f/5a200f7db1a1262a46e7eeae63d7b0d7c59fbfad79a890b85b\n",
            "Successfully built transformers\n",
            "Building wheels for collected packages: sacremoses\n",
            "  Building wheel for sacremoses (setup.py) ... \u001b[?25l\u001b[?25hdone\n",
            "  Created wheel for sacremoses: filename=sacremoses-0.0.43-cp36-none-any.whl size=893261 sha256=af1512411ed517afe912d489188c737dafb2547e959ac5ba3d9c9602e0303d48\n",
            "  Stored in directory: /root/.cache/pip/wheels/29/3c/fd/7ce5c3f0666dab31a50123635e6fb5e19ceb42ce38d4e58f45\n",
            "Successfully built sacremoses\n",
            "Installing collected packages: tokenizers, sacremoses, transformers\n",
            "Successfully installed sacremoses-0.0.43 tokenizers-0.9.4 transformers-4.1.0.dev0\n"
          ],
          "name": "stdout"
        }
      ]
    },
    {
      "cell_type": "code",
      "metadata": {
        "colab": {
          "base_uri": "https://localhost:8080/"
        },
        "id": "JyVBnRzAadV5",
        "outputId": "6729f934-3237-40ce-92e7-27449670221f"
      },
      "source": [
        "cd .."
      ],
      "execution_count": 7,
      "outputs": [
        {
          "output_type": "stream",
          "text": [
            "/content\n"
          ],
          "name": "stdout"
        }
      ]
    },
    {
      "cell_type": "code",
      "metadata": {
        "colab": {
          "base_uri": "https://localhost:8080/"
        },
        "id": "ethuBU8iagLy",
        "outputId": "c62e5d70-eb0e-4269-db1e-7ad339d870d9"
      },
      "source": [
        "!pip install sentencepiece"
      ],
      "execution_count": 8,
      "outputs": [
        {
          "output_type": "stream",
          "text": [
            "Collecting sentencepiece\n",
            "\u001b[?25l  Downloading https://files.pythonhosted.org/packages/e5/2d/6d4ca4bef9a67070fa1cac508606328329152b1df10bdf31fb6e4e727894/sentencepiece-0.1.94-cp36-cp36m-manylinux2014_x86_64.whl (1.1MB)\n",
            "\r\u001b[K     |▎                               | 10kB 26.8MB/s eta 0:00:01\r\u001b[K     |▋                               | 20kB 31.9MB/s eta 0:00:01\r\u001b[K     |▉                               | 30kB 11.4MB/s eta 0:00:01\r\u001b[K     |█▏                              | 40kB 8.7MB/s eta 0:00:01\r\u001b[K     |█▌                              | 51kB 7.8MB/s eta 0:00:01\r\u001b[K     |█▊                              | 61kB 7.6MB/s eta 0:00:01\r\u001b[K     |██                              | 71kB 8.6MB/s eta 0:00:01\r\u001b[K     |██▍                             | 81kB 8.6MB/s eta 0:00:01\r\u001b[K     |██▋                             | 92kB 8.9MB/s eta 0:00:01\r\u001b[K     |███                             | 102kB 9.1MB/s eta 0:00:01\r\u001b[K     |███▎                            | 112kB 9.1MB/s eta 0:00:01\r\u001b[K     |███▌                            | 122kB 9.1MB/s eta 0:00:01\r\u001b[K     |███▉                            | 133kB 9.1MB/s eta 0:00:01\r\u001b[K     |████▏                           | 143kB 9.1MB/s eta 0:00:01\r\u001b[K     |████▍                           | 153kB 9.1MB/s eta 0:00:01\r\u001b[K     |████▊                           | 163kB 9.1MB/s eta 0:00:01\r\u001b[K     |█████                           | 174kB 9.1MB/s eta 0:00:01\r\u001b[K     |█████▎                          | 184kB 9.1MB/s eta 0:00:01\r\u001b[K     |█████▋                          | 194kB 9.1MB/s eta 0:00:01\r\u001b[K     |█████▉                          | 204kB 9.1MB/s eta 0:00:01\r\u001b[K     |██████▏                         | 215kB 9.1MB/s eta 0:00:01\r\u001b[K     |██████▌                         | 225kB 9.1MB/s eta 0:00:01\r\u001b[K     |██████▊                         | 235kB 9.1MB/s eta 0:00:01\r\u001b[K     |███████                         | 245kB 9.1MB/s eta 0:00:01\r\u001b[K     |███████▍                        | 256kB 9.1MB/s eta 0:00:01\r\u001b[K     |███████▋                        | 266kB 9.1MB/s eta 0:00:01\r\u001b[K     |████████                        | 276kB 9.1MB/s eta 0:00:01\r\u001b[K     |████████▎                       | 286kB 9.1MB/s eta 0:00:01\r\u001b[K     |████████▌                       | 296kB 9.1MB/s eta 0:00:01\r\u001b[K     |████████▉                       | 307kB 9.1MB/s eta 0:00:01\r\u001b[K     |█████████                       | 317kB 9.1MB/s eta 0:00:01\r\u001b[K     |█████████▍                      | 327kB 9.1MB/s eta 0:00:01\r\u001b[K     |█████████▊                      | 337kB 9.1MB/s eta 0:00:01\r\u001b[K     |██████████                      | 348kB 9.1MB/s eta 0:00:01\r\u001b[K     |██████████▎                     | 358kB 9.1MB/s eta 0:00:01\r\u001b[K     |██████████▋                     | 368kB 9.1MB/s eta 0:00:01\r\u001b[K     |██████████▉                     | 378kB 9.1MB/s eta 0:00:01\r\u001b[K     |███████████▏                    | 389kB 9.1MB/s eta 0:00:01\r\u001b[K     |███████████▌                    | 399kB 9.1MB/s eta 0:00:01\r\u001b[K     |███████████▊                    | 409kB 9.1MB/s eta 0:00:01\r\u001b[K     |████████████                    | 419kB 9.1MB/s eta 0:00:01\r\u001b[K     |████████████▍                   | 430kB 9.1MB/s eta 0:00:01\r\u001b[K     |████████████▋                   | 440kB 9.1MB/s eta 0:00:01\r\u001b[K     |█████████████                   | 450kB 9.1MB/s eta 0:00:01\r\u001b[K     |█████████████▎                  | 460kB 9.1MB/s eta 0:00:01\r\u001b[K     |█████████████▌                  | 471kB 9.1MB/s eta 0:00:01\r\u001b[K     |█████████████▉                  | 481kB 9.1MB/s eta 0:00:01\r\u001b[K     |██████████████                  | 491kB 9.1MB/s eta 0:00:01\r\u001b[K     |██████████████▍                 | 501kB 9.1MB/s eta 0:00:01\r\u001b[K     |██████████████▊                 | 512kB 9.1MB/s eta 0:00:01\r\u001b[K     |███████████████                 | 522kB 9.1MB/s eta 0:00:01\r\u001b[K     |███████████████▎                | 532kB 9.1MB/s eta 0:00:01\r\u001b[K     |███████████████▋                | 542kB 9.1MB/s eta 0:00:01\r\u001b[K     |███████████████▉                | 552kB 9.1MB/s eta 0:00:01\r\u001b[K     |████████████████▏               | 563kB 9.1MB/s eta 0:00:01\r\u001b[K     |████████████████▌               | 573kB 9.1MB/s eta 0:00:01\r\u001b[K     |████████████████▊               | 583kB 9.1MB/s eta 0:00:01\r\u001b[K     |█████████████████               | 593kB 9.1MB/s eta 0:00:01\r\u001b[K     |█████████████████▍              | 604kB 9.1MB/s eta 0:00:01\r\u001b[K     |█████████████████▋              | 614kB 9.1MB/s eta 0:00:01\r\u001b[K     |██████████████████              | 624kB 9.1MB/s eta 0:00:01\r\u001b[K     |██████████████████▏             | 634kB 9.1MB/s eta 0:00:01\r\u001b[K     |██████████████████▌             | 645kB 9.1MB/s eta 0:00:01\r\u001b[K     |██████████████████▉             | 655kB 9.1MB/s eta 0:00:01\r\u001b[K     |███████████████████             | 665kB 9.1MB/s eta 0:00:01\r\u001b[K     |███████████████████▍            | 675kB 9.1MB/s eta 0:00:01\r\u001b[K     |███████████████████▊            | 686kB 9.1MB/s eta 0:00:01\r\u001b[K     |████████████████████            | 696kB 9.1MB/s eta 0:00:01\r\u001b[K     |████████████████████▎           | 706kB 9.1MB/s eta 0:00:01\r\u001b[K     |████████████████████▋           | 716kB 9.1MB/s eta 0:00:01\r\u001b[K     |████████████████████▉           | 727kB 9.1MB/s eta 0:00:01\r\u001b[K     |█████████████████████▏          | 737kB 9.1MB/s eta 0:00:01\r\u001b[K     |█████████████████████▌          | 747kB 9.1MB/s eta 0:00:01\r\u001b[K     |█████████████████████▊          | 757kB 9.1MB/s eta 0:00:01\r\u001b[K     |██████████████████████          | 768kB 9.1MB/s eta 0:00:01\r\u001b[K     |██████████████████████▎         | 778kB 9.1MB/s eta 0:00:01\r\u001b[K     |██████████████████████▋         | 788kB 9.1MB/s eta 0:00:01\r\u001b[K     |███████████████████████         | 798kB 9.1MB/s eta 0:00:01\r\u001b[K     |███████████████████████▏        | 808kB 9.1MB/s eta 0:00:01\r\u001b[K     |███████████████████████▌        | 819kB 9.1MB/s eta 0:00:01\r\u001b[K     |███████████████████████▉        | 829kB 9.1MB/s eta 0:00:01\r\u001b[K     |████████████████████████        | 839kB 9.1MB/s eta 0:00:01\r\u001b[K     |████████████████████████▍       | 849kB 9.1MB/s eta 0:00:01\r\u001b[K     |████████████████████████▊       | 860kB 9.1MB/s eta 0:00:01\r\u001b[K     |█████████████████████████       | 870kB 9.1MB/s eta 0:00:01\r\u001b[K     |█████████████████████████▎      | 880kB 9.1MB/s eta 0:00:01\r\u001b[K     |█████████████████████████▋      | 890kB 9.1MB/s eta 0:00:01\r\u001b[K     |█████████████████████████▉      | 901kB 9.1MB/s eta 0:00:01\r\u001b[K     |██████████████████████████▏     | 911kB 9.1MB/s eta 0:00:01\r\u001b[K     |██████████████████████████▌     | 921kB 9.1MB/s eta 0:00:01\r\u001b[K     |██████████████████████████▊     | 931kB 9.1MB/s eta 0:00:01\r\u001b[K     |███████████████████████████     | 942kB 9.1MB/s eta 0:00:01\r\u001b[K     |███████████████████████████▎    | 952kB 9.1MB/s eta 0:00:01\r\u001b[K     |███████████████████████████▋    | 962kB 9.1MB/s eta 0:00:01\r\u001b[K     |████████████████████████████    | 972kB 9.1MB/s eta 0:00:01\r\u001b[K     |████████████████████████████▏   | 983kB 9.1MB/s eta 0:00:01\r\u001b[K     |████████████████████████████▌   | 993kB 9.1MB/s eta 0:00:01\r\u001b[K     |████████████████████████████▉   | 1.0MB 9.1MB/s eta 0:00:01\r\u001b[K     |█████████████████████████████   | 1.0MB 9.1MB/s eta 0:00:01\r\u001b[K     |█████████████████████████████▍  | 1.0MB 9.1MB/s eta 0:00:01\r\u001b[K     |█████████████████████████████▊  | 1.0MB 9.1MB/s eta 0:00:01\r\u001b[K     |██████████████████████████████  | 1.0MB 9.1MB/s eta 0:00:01\r\u001b[K     |██████████████████████████████▎ | 1.1MB 9.1MB/s eta 0:00:01\r\u001b[K     |██████████████████████████████▋ | 1.1MB 9.1MB/s eta 0:00:01\r\u001b[K     |██████████████████████████████▉ | 1.1MB 9.1MB/s eta 0:00:01\r\u001b[K     |███████████████████████████████▏| 1.1MB 9.1MB/s eta 0:00:01\r\u001b[K     |███████████████████████████████▍| 1.1MB 9.1MB/s eta 0:00:01\r\u001b[K     |███████████████████████████████▊| 1.1MB 9.1MB/s eta 0:00:01\r\u001b[K     |████████████████████████████████| 1.1MB 9.1MB/s \n",
            "\u001b[?25hInstalling collected packages: sentencepiece\n",
            "Successfully installed sentencepiece-0.1.94\n"
          ],
          "name": "stdout"
        }
      ]
    },
    {
      "cell_type": "code",
      "metadata": {
        "id": "Eug8IYEHF1QD"
      },
      "source": [
        "import pandas as pd\n",
        "import numpy as np\n",
        "import torch\n",
        "import argparse\n",
        "from torch.utils.data import Dataset, DataLoader\n",
        "from torch.nn.utils.rnn import pad_sequence\n",
        "from sklearn.model_selection import train_test_split\n",
        "from torch import nn\n",
        "import torch.nn.functional as F\n",
        "from sklearn.metrics import f1_score\n",
        "from tqdm.notebook import tqdm\n",
        "from functools import partial\n",
        "from scipy.optimize import minimize\n",
        "\n",
        "import os"
      ],
      "execution_count": 9,
      "outputs": []
    },
    {
      "cell_type": "code",
      "metadata": {
        "id": "jEMWIwUDamEN"
      },
      "source": [
        "from transformers import DistilBertModel, DistilBertTokenizer, DistilBertConfig\n",
        "config = DistilBertConfig.from_pretrained('distilbert-base-uncased')\n",
        "tokenizer = DistilBertTokenizer.from_pretrained('distilbert-base-uncased')"
      ],
      "execution_count": 18,
      "outputs": []
    },
    {
      "cell_type": "code",
      "metadata": {
        "id": "cQ0q1IkVbATC"
      },
      "source": [
        "use_favor = True\n",
        "BATCH_SIZE = 30\n",
        "EPOCHS = 5"
      ],
      "execution_count": 19,
      "outputs": []
    },
    {
      "cell_type": "code",
      "metadata": {
        "id": "nCtTvPOwa3qO"
      },
      "source": [
        "if use_favor:\n",
        "  config.attention_type = 'performer'\n",
        "  pretrained = 'FAVORDistilbert'\n",
        "else:\n",
        "  pretrained = 'distilbert-base-uncased'"
      ],
      "execution_count": 20,
      "outputs": []
    },
    {
      "cell_type": "code",
      "metadata": {
        "id": "fRRTL2KHStyl",
        "colab": {
          "base_uri": "https://localhost:8080/"
        },
        "outputId": "e90cd20b-2078-4757-d3a7-11997b2e2c38"
      },
      "source": [
        "class PairsDataset(Dataset):\n",
        "    def __init__(self, data, tokenizer):\n",
        "        self.data = data\n",
        "        self.tokenizer = tokenizer\n",
        "    \n",
        "    def __getitem__(self, id):\n",
        "        row = self.data.iloc[id]\n",
        "        q1, q2 = row.question1, row.question2\n",
        "        q1 = torch.LongTensor(self.tokenizer.encode(q1))\n",
        "        q2 = torch.LongTensor(self.tokenizer.encode(q2))\n",
        "        target = row.is_duplicate\n",
        "        \n",
        "        return q1, q2, target\n",
        "    \n",
        "    def __len__(self):\n",
        "        return len(self.data)\n",
        "    \n",
        "\n",
        "def collate_fn(batch):\n",
        "    q1, q2, targets = zip(*batch)\n",
        "    q1 = pad_sequence(q1, batch_first=True)\n",
        "    q2 = pad_sequence(q2, batch_first=True)\n",
        "    targets = torch.LongTensor(targets)\n",
        "    \n",
        "    return q1, q2, targets\n",
        "\n",
        "train = pd.read_csv('data/train.csv')\n",
        "train.loc[:, 'question1'][train.loc[:, 'question1'].isna()] = 'nan'\n",
        "train.loc[:, 'question2'][train.loc[:, 'question2'].isna()] = 'nan'\n",
        "seed = 42\n",
        "train_ratio = 0.8\n",
        "thresh_ratio = 0.35\n",
        "\n",
        "train, val = train_test_split(train, train_size=train_ratio, random_state=seed)\n",
        "thresh, val = train_test_split(val, train_size=thresh_ratio, random_state=seed)\n",
        "\n",
        "train_loader = DataLoader(PairsDataset(train, tokenizer), \n",
        "                          batch_size=BATCH_SIZE, \n",
        "                          shuffle=True,\n",
        "                          drop_last=True,\n",
        "                          collate_fn=collate_fn)\n",
        "\n",
        "thresh_loader = DataLoader(PairsDataset(thresh, tokenizer), \n",
        "                           batch_size=BATCH_SIZE,\n",
        "                           collate_fn=collate_fn)\n",
        "\n",
        "val_loader = DataLoader(PairsDataset(val, tokenizer), \n",
        "                        batch_size=BATCH_SIZE,\n",
        "                        collate_fn=collate_fn)\n",
        "\n",
        "device = torch.device('cuda' if torch.cuda.is_available() else 'cpu')"
      ],
      "execution_count": 33,
      "outputs": [
        {
          "output_type": "stream",
          "text": [
            "/usr/local/lib/python3.6/dist-packages/ipykernel_launcher.py:28: SettingWithCopyWarning: \n",
            "A value is trying to be set on a copy of a slice from a DataFrame\n",
            "\n",
            "See the caveats in the documentation: https://pandas.pydata.org/pandas-docs/stable/user_guide/indexing.html#returning-a-view-versus-a-copy\n",
            "/usr/local/lib/python3.6/dist-packages/ipykernel_launcher.py:29: SettingWithCopyWarning: \n",
            "A value is trying to be set on a copy of a slice from a DataFrame\n",
            "\n",
            "See the caveats in the documentation: https://pandas.pydata.org/pandas-docs/stable/user_guide/indexing.html#returning-a-view-versus-a-copy\n"
          ],
          "name": "stderr"
        }
      ]
    },
    {
      "cell_type": "code",
      "metadata": {
        "id": "PrcKx5F_TPvx"
      },
      "source": [
        "class SiameseTransformer(nn.Module):\n",
        "    def __init__(self, model, d_model, reduction='mean'):\n",
        "        super(SiameseTransformer, self).__init__()\n",
        "        self.transformer = transformer\n",
        "        self.classifier = nn.Linear(3 * d_model, 2)\n",
        "        assert reduction in ['mean', 'cls', 'max'], 'Invalid reduction mode'\n",
        "        self.reduction = reduction\n",
        "        self.dropout = nn.Dropout(0.2)\n",
        "        \n",
        "    def _embed(self, x, mask):\n",
        "        x = self.transformer(x, mask).last_hidden_state\n",
        "\n",
        "        if self.reduction == 'mean':\n",
        "            x = x.masked_fill(~mask[..., None], 0).sum(1) / mask.sum(1)[:, None]\n",
        "        elif self.reduction == 'max':\n",
        "            x = x.masked_fill(~mask[..., None], 0).max(1)[0]\n",
        "        else:\n",
        "            x = x[:, 0, :]\n",
        "        return x\n",
        "        \n",
        "    def forward(self, q1, mask1, q2, mask2):\n",
        "        q1 = self._embed(q1, mask1)\n",
        "        q2 = self._embed(q2, mask2)\n",
        "        q1 = self.dropout(q1)\n",
        "        q2 = self.dropout(q2)\n",
        "        \n",
        "        embedding = torch.cat([q1, q2, torch.abs(q1 - q2)], axis=-1)\n",
        "        logits = self.classifier(embedding)\n",
        "        return logits\n",
        "    \n",
        "    def compute_similarity(self, q1, mask1, q2, mask2):\n",
        "        q1 = self._embed(q1, mask1)\n",
        "        q2 = self._embed(q2, mask2)\n",
        "        sim = F.cosine_similarity(q1, q2)\n",
        "        return sim\n",
        "\n",
        "\n",
        "class OptimizedRounder:\n",
        "    \"\"\"\n",
        "    An optimizer for rounding thresholds\n",
        "    to maximize F1 score\n",
        "    # https://www.kaggle.com/naveenasaithambi/optimizedrounder-improved\n",
        "    \"\"\"\n",
        "    def __init__(self, initial_coef=0.5):\n",
        "        self.thresh = None\n",
        "        self.initial_coef = initial_coef\n",
        "\n",
        "    def _f_score_loss(self, threshold, similarities, trues):\n",
        "        \"\"\"\n",
        "        Get loss according to\n",
        "        using current coefficients\n",
        "        \n",
        "        :param threshold: Prediction threshold\n",
        "        :param similarities: Predicted cosine similarities\n",
        "        :param true: The ground truth labels\n",
        "        \"\"\"\n",
        "        preds = pd.cut(similarities, [-np.inf] + list(threshold) + [np.inf], labels = [0, 1])\n",
        "\n",
        "        return -f1_score(trues, preds)\n",
        "\n",
        "    def fit(self, similarities, trues):\n",
        "        \"\"\"\n",
        "        Optimize prediction threshold\n",
        "        \n",
        "        :param X: The raw predictions\n",
        "        :param y: The ground truth labels\n",
        "        \"\"\"\n",
        "        loss_partial = partial(self._f_score_loss, similarities=similarities, trues=trues)\n",
        "        self.thresh = minimize(loss_partial, self.initial_coef, method='nelder-mead')['x']\n",
        "\n",
        "    def predict(self, similarities):\n",
        "        \"\"\"\n",
        "        Make predictions with optimized threshold\n",
        "        \n",
        "        :param threshold: Prediction threshold\n",
        "        :param similarities: Predicted cosine similarities\n",
        "        \"\"\"\n",
        "        return pd.cut(similarities, [-np.inf] + list(self.thresh) + [np.inf], labels = [0, 1])"
      ],
      "execution_count": 35,
      "outputs": []
    },
    {
      "cell_type": "code",
      "metadata": {
        "id": "Hb1lGVnvG8pA",
        "colab": {
          "base_uri": "https://localhost:8080/"
        },
        "outputId": "09b493c5-5a5a-44f6-b719-f9cb2e1fad74"
      },
      "source": [
        "transformer = DistilBertModel.from_pretrained(pretrained, config=config)\n",
        "model = SiameseTransformer(transformer, 768, reduction='cls')\n",
        "optimizer = torch.optim.SGD(model.parameters(), lr=1e-4, momentum=0.9)\n",
        "criterion = torch.nn.CrossEntropyLoss()\n",
        "model.to(device)"
      ],
      "execution_count": 36,
      "outputs": [
        {
          "output_type": "execute_result",
          "data": {
            "text/plain": [
              "SiameseTransformer(\n",
              "  (transformer): DistilBertModel(\n",
              "    (embeddings): Embeddings(\n",
              "      (word_embeddings): Embedding(30522, 768, padding_idx=0)\n",
              "      (position_embeddings): Embedding(512, 768)\n",
              "      (LayerNorm): LayerNorm((768,), eps=1e-12, elementwise_affine=True)\n",
              "      (dropout): Dropout(p=0.1, inplace=False)\n",
              "    )\n",
              "    (transformer): Transformer(\n",
              "      (layer): ModuleList(\n",
              "        (0): TransformerBlock(\n",
              "          (attention): PerformerAttention(\n",
              "            (dropout): Dropout(p=0.1, inplace=False)\n",
              "            (q_lin): Linear(in_features=768, out_features=768, bias=True)\n",
              "            (k_lin): Linear(in_features=768, out_features=768, bias=True)\n",
              "            (v_lin): Linear(in_features=768, out_features=768, bias=True)\n",
              "            (out_lin): Linear(in_features=768, out_features=768, bias=True)\n",
              "          )\n",
              "          (sa_layer_norm): LayerNorm((768,), eps=1e-12, elementwise_affine=True)\n",
              "          (ffn): FFN(\n",
              "            (dropout): Dropout(p=0.1, inplace=False)\n",
              "            (lin1): Linear(in_features=768, out_features=3072, bias=True)\n",
              "            (lin2): Linear(in_features=3072, out_features=768, bias=True)\n",
              "          )\n",
              "          (output_layer_norm): LayerNorm((768,), eps=1e-12, elementwise_affine=True)\n",
              "        )\n",
              "        (1): TransformerBlock(\n",
              "          (attention): PerformerAttention(\n",
              "            (dropout): Dropout(p=0.1, inplace=False)\n",
              "            (q_lin): Linear(in_features=768, out_features=768, bias=True)\n",
              "            (k_lin): Linear(in_features=768, out_features=768, bias=True)\n",
              "            (v_lin): Linear(in_features=768, out_features=768, bias=True)\n",
              "            (out_lin): Linear(in_features=768, out_features=768, bias=True)\n",
              "          )\n",
              "          (sa_layer_norm): LayerNorm((768,), eps=1e-12, elementwise_affine=True)\n",
              "          (ffn): FFN(\n",
              "            (dropout): Dropout(p=0.1, inplace=False)\n",
              "            (lin1): Linear(in_features=768, out_features=3072, bias=True)\n",
              "            (lin2): Linear(in_features=3072, out_features=768, bias=True)\n",
              "          )\n",
              "          (output_layer_norm): LayerNorm((768,), eps=1e-12, elementwise_affine=True)\n",
              "        )\n",
              "        (2): TransformerBlock(\n",
              "          (attention): PerformerAttention(\n",
              "            (dropout): Dropout(p=0.1, inplace=False)\n",
              "            (q_lin): Linear(in_features=768, out_features=768, bias=True)\n",
              "            (k_lin): Linear(in_features=768, out_features=768, bias=True)\n",
              "            (v_lin): Linear(in_features=768, out_features=768, bias=True)\n",
              "            (out_lin): Linear(in_features=768, out_features=768, bias=True)\n",
              "          )\n",
              "          (sa_layer_norm): LayerNorm((768,), eps=1e-12, elementwise_affine=True)\n",
              "          (ffn): FFN(\n",
              "            (dropout): Dropout(p=0.1, inplace=False)\n",
              "            (lin1): Linear(in_features=768, out_features=3072, bias=True)\n",
              "            (lin2): Linear(in_features=3072, out_features=768, bias=True)\n",
              "          )\n",
              "          (output_layer_norm): LayerNorm((768,), eps=1e-12, elementwise_affine=True)\n",
              "        )\n",
              "        (3): TransformerBlock(\n",
              "          (attention): PerformerAttention(\n",
              "            (dropout): Dropout(p=0.1, inplace=False)\n",
              "            (q_lin): Linear(in_features=768, out_features=768, bias=True)\n",
              "            (k_lin): Linear(in_features=768, out_features=768, bias=True)\n",
              "            (v_lin): Linear(in_features=768, out_features=768, bias=True)\n",
              "            (out_lin): Linear(in_features=768, out_features=768, bias=True)\n",
              "          )\n",
              "          (sa_layer_norm): LayerNorm((768,), eps=1e-12, elementwise_affine=True)\n",
              "          (ffn): FFN(\n",
              "            (dropout): Dropout(p=0.1, inplace=False)\n",
              "            (lin1): Linear(in_features=768, out_features=3072, bias=True)\n",
              "            (lin2): Linear(in_features=3072, out_features=768, bias=True)\n",
              "          )\n",
              "          (output_layer_norm): LayerNorm((768,), eps=1e-12, elementwise_affine=True)\n",
              "        )\n",
              "        (4): TransformerBlock(\n",
              "          (attention): PerformerAttention(\n",
              "            (dropout): Dropout(p=0.1, inplace=False)\n",
              "            (q_lin): Linear(in_features=768, out_features=768, bias=True)\n",
              "            (k_lin): Linear(in_features=768, out_features=768, bias=True)\n",
              "            (v_lin): Linear(in_features=768, out_features=768, bias=True)\n",
              "            (out_lin): Linear(in_features=768, out_features=768, bias=True)\n",
              "          )\n",
              "          (sa_layer_norm): LayerNorm((768,), eps=1e-12, elementwise_affine=True)\n",
              "          (ffn): FFN(\n",
              "            (dropout): Dropout(p=0.1, inplace=False)\n",
              "            (lin1): Linear(in_features=768, out_features=3072, bias=True)\n",
              "            (lin2): Linear(in_features=3072, out_features=768, bias=True)\n",
              "          )\n",
              "          (output_layer_norm): LayerNorm((768,), eps=1e-12, elementwise_affine=True)\n",
              "        )\n",
              "        (5): TransformerBlock(\n",
              "          (attention): PerformerAttention(\n",
              "            (dropout): Dropout(p=0.1, inplace=False)\n",
              "            (q_lin): Linear(in_features=768, out_features=768, bias=True)\n",
              "            (k_lin): Linear(in_features=768, out_features=768, bias=True)\n",
              "            (v_lin): Linear(in_features=768, out_features=768, bias=True)\n",
              "            (out_lin): Linear(in_features=768, out_features=768, bias=True)\n",
              "          )\n",
              "          (sa_layer_norm): LayerNorm((768,), eps=1e-12, elementwise_affine=True)\n",
              "          (ffn): FFN(\n",
              "            (dropout): Dropout(p=0.1, inplace=False)\n",
              "            (lin1): Linear(in_features=768, out_features=3072, bias=True)\n",
              "            (lin2): Linear(in_features=3072, out_features=768, bias=True)\n",
              "          )\n",
              "          (output_layer_norm): LayerNorm((768,), eps=1e-12, elementwise_affine=True)\n",
              "        )\n",
              "      )\n",
              "    )\n",
              "  )\n",
              "  (classifier): Linear(in_features=2304, out_features=2, bias=True)\n",
              "  (dropout): Dropout(p=0.2, inplace=False)\n",
              ")"
            ]
          },
          "metadata": {
            "tags": []
          },
          "execution_count": 36
        }
      ]
    },
    {
      "cell_type": "code",
      "metadata": {
        "id": "ym7rve7SRqaW",
        "colab": {
          "base_uri": "https://localhost:8080/",
          "height": 349,
          "referenced_widgets": [
            "9e8208695ecc4aa58cf254f5d18ebe42",
            "b2dd0df4158b45c097e017428fe57af6",
            "6bd1997746b849218915037449e44a2c",
            "0b4ecd35af224815b7548da035830fa9",
            "bd056407a5cd4280bdcf59d09b080776",
            "51de1c198e9a474eb173b46d2f04195a",
            "cf7ac851bebf4c51b7fb302f5ed3b809",
            "dfe0ad6a16ad47069a450b40ce1e7990",
            "c85e14e5b4a94a29b9843cfa4e36b792",
            "d7b84b55845944bebdd559f61e86ba97",
            "e8b5eb4faed646b29ecaf92484ba4ff6",
            "df65c9426d66472e858b19d2912e09a4",
            "bb026a9532eb4df3be1558c2db362c7f",
            "5cbd7181848b404d982b5cf7767be233",
            "8585db15310248518a079e37e2bbd242",
            "2dc8b67bc56244c3a6d2230b9f807956",
            "46004d2c9fe2422f8569dfc86d82e210",
            "c7ce53617b054b298829d08d0804a93f",
            "a008b0a9fdd3428da29b7a54e30b0889",
            "009f491987db43d19f58f791e85b6e03",
            "876603fd405248969710c80836d6e4a9",
            "9a98a9e8160545f78affa1f7952dac6f",
            "cb0f03d197054826aa27de72b720b62d",
            "7257ad452249410da66e2bb45e45495f",
            "cdb32796c97443deba06a811886b10cf",
            "e8aa865975904d8b95a7d58aad2a297f",
            "b061f68c0a39470b963488530cd6c826",
            "e0b178cda6e541ad9c5ef8370c5096e3",
            "cdbd7d07605048889fbdf69cb7de1870",
            "a2ce6dc13f6541b2b2adf22388d9523e",
            "ceaca139481349cc87f42709e1cb089a",
            "a8b102a9a6654023b2c694636897ee7b"
          ]
        },
        "outputId": "c5acc0b5-f289-4695-9d64-b4be4949408e"
      },
      "source": [
        "best_f1 = 0\n",
        "\n",
        "for epoch in range(1, EPOCHS):\n",
        "    model.train()\n",
        "    losses = []\n",
        "    for q1, q2, targets in tqdm(train_loader):\n",
        "        q1, q2, targets = (x.to(device) for x in (q1, q2, targets))\n",
        "    \n",
        "        mask1, mask2 = q1 != 0, q2 != 0\n",
        "        logits = model(q1, mask1, q2, mask2)\n",
        "        loss = criterion(logits, targets)\n",
        "        losses.append(loss.item())\n",
        "        \n",
        "        optimizer.zero_grad()\n",
        "        loss.backward()\n",
        "        optimizer.step()\n",
        "    \n",
        "    print('Average loss', np.mean(losses))\n",
        "    model.eval()\n",
        "    with torch.no_grad():\n",
        "        similarities = []\n",
        "        trues = []\n",
        "        \n",
        "        for q1, q2, targets in thresh_loader:\n",
        "            q1, q2 = q1.to(device), q2.to(device)\n",
        "            mask1, mask2 = q1 != 0, q2 != 0\n",
        "            sim = model.compute_similarity(q1, mask1, q2, mask2)\n",
        "            similarities.extend(sim.cpu().numpy().tolist())\n",
        "            trues.extend(targets.numpy().tolist())\n",
        "        \n",
        "        threshold_tuner = OptimizedRounder(0.5)\n",
        "        threshold_tuner.fit(similarities, trues)\n",
        "        \n",
        "        similarities = []\n",
        "        trues = []\n",
        "        \n",
        "        for q1, q2, targets in val_loader:\n",
        "            q1, q2 = q1.to(device), q2.to(device)\n",
        "            mask1, mask2 = q1 != 0, q2 != 0\n",
        "            sim = model.compute_similarity(q1, mask1, q2, mask2)\n",
        "            similarities.extend(sim.cpu().numpy().tolist())\n",
        "            trues.extend(targets.numpy().tolist())\n",
        "        \n",
        "        preds = threshold_tuner.predict(similarities)\n",
        "        f1 = f1_score(trues, preds)\n",
        "        print(f'Epoch: {epoch + 1}, f1: {f1}')\n",
        "        \n",
        "        if f1 > best_f1:\n",
        "            best_f1 = f1   \n",
        "            torch.save({'model': model.state_dict(),\n",
        "                        'f1': f1,\n",
        "                        'threshold': threshold_tuner.thresh},\n",
        "                        f'epoch{epoch + 1}.pth')"
      ],
      "execution_count": 39,
      "outputs": [
        {
          "output_type": "display_data",
          "data": {
            "application/vnd.jupyter.widget-view+json": {
              "model_id": "9e8208695ecc4aa58cf254f5d18ebe42",
              "version_minor": 0,
              "version_major": 2
            },
            "text/plain": [
              "HBox(children=(FloatProgress(value=0.0, max=10781.0), HTML(value='')))"
            ]
          },
          "metadata": {
            "tags": []
          }
        },
        {
          "output_type": "stream",
          "text": [
            "\n",
            "Average loss 0.40602461274621016\n",
            "Epoch: 2, f1: 0.734335613971912\n"
          ],
          "name": "stdout"
        },
        {
          "output_type": "display_data",
          "data": {
            "application/vnd.jupyter.widget-view+json": {
              "model_id": "c85e14e5b4a94a29b9843cfa4e36b792",
              "version_minor": 0,
              "version_major": 2
            },
            "text/plain": [
              "HBox(children=(FloatProgress(value=0.0, max=10781.0), HTML(value='')))"
            ]
          },
          "metadata": {
            "tags": []
          }
        },
        {
          "output_type": "stream",
          "text": [
            "\n",
            "Average loss 0.3809136891292349\n",
            "Epoch: 3, f1: 0.7479143834850485\n"
          ],
          "name": "stdout"
        },
        {
          "output_type": "display_data",
          "data": {
            "application/vnd.jupyter.widget-view+json": {
              "model_id": "46004d2c9fe2422f8569dfc86d82e210",
              "version_minor": 0,
              "version_major": 2
            },
            "text/plain": [
              "HBox(children=(FloatProgress(value=0.0, max=10781.0), HTML(value='')))"
            ]
          },
          "metadata": {
            "tags": []
          }
        },
        {
          "output_type": "stream",
          "text": [
            "\n",
            "Average loss 0.36349707449751895\n",
            "Epoch: 4, f1: 0.7538688612577155\n"
          ],
          "name": "stdout"
        },
        {
          "output_type": "display_data",
          "data": {
            "application/vnd.jupyter.widget-view+json": {
              "model_id": "cdb32796c97443deba06a811886b10cf",
              "version_minor": 0,
              "version_major": 2
            },
            "text/plain": [
              "HBox(children=(FloatProgress(value=0.0, max=10781.0), HTML(value='')))"
            ]
          },
          "metadata": {
            "tags": []
          }
        },
        {
          "output_type": "stream",
          "text": [
            "\n",
            "Average loss 0.34993410423534854\n",
            "Epoch: 5, f1: 0.7584152252212193\n"
          ],
          "name": "stdout"
        }
      ]
    },
    {
      "cell_type": "code",
      "metadata": {
        "id": "B7ahS-zkXMNB"
      },
      "source": [
        " torch.save({'model': model.state_dict(),\n",
        "                        'f1': f1,\n",
        "                        'threshold': threshold_tuner.thresh},\n",
        "                        f'epoch{epoch + 1}.pth')"
      ],
      "execution_count": 38,
      "outputs": []
    },
    {
      "cell_type": "code",
      "metadata": {
        "id": "sBa7crnEktgQ"
      },
      "source": [],
      "execution_count": null,
      "outputs": []
    }
  ]
}